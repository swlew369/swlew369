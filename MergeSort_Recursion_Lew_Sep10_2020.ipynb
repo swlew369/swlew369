{
 "cells": [
  {
   "cell_type": "code",
   "execution_count": 1,
   "metadata": {},
   "outputs": [],
   "source": [
    "import pandas as pd\n",
    "import numpy as np\n",
    "import seaborn as sns\n",
    "import matplotlib.pyplot as plt\n",
    "import time\n",
    "import re\n",
    "import nltk\n",
    "import math\n",
    "import pickle\n",
    "\n",
    "from sklearn import svm\n",
    "from sklearn.preprocessing import StandardScaler\n",
    "from sklearn.model_selection import train_test_split, GridSearchCV\n",
    "from sklearn.tree import DecisionTreeClassifier\n",
    "from sklearn.linear_model import LogisticRegression\n",
    "from sklearn.neighbors import KNeighborsClassifier\n",
    "from sklearn.ensemble import RandomForestClassifier\n",
    "from nltk.corpus import stopwords\n",
    "from sklearn.feature_extraction.text import TfidfVectorizer\n",
    "from sklearn.feature_extraction.text import CountVectorizer\n",
    "import sklearn.metrics\n",
    "from sklearn.metrics import confusion_matrix\n",
    "from Bio.SeqUtils.ProtParam import ProteinAnalysis\n",
    "#from imblearn.over_sampling import SMOTE\n",
    "from sklearn.model_selection import cross_val_score, cross_val_predict\n",
    "\n",
    "%matplotlib inline"
   ]
  },
  {
   "cell_type": "markdown",
   "metadata": {},
   "source": [
    "## Merge Sort Algo"
   ]
  },
  {
   "cell_type": "markdown",
   "metadata": {},
   "source": [
    "## divide-and-conquer algorithm as having three parts:\n",
    "\n",
    "## 1. Divide the problem into a number of subproblems that are smaller instances of the same            problem.\n",
    "## 2. Conquer the subproblems by solving them recursively. If they are small enough, solve the          subproblems as base cases.\n",
    "## 3. Combine the solutions to the subproblems into the solution for the original problem."
   ]
  },
  {
   "cell_type": "code",
   "execution_count": 2,
   "metadata": {},
   "outputs": [],
   "source": [
    "def divide_array(arr):\n",
    "    '''function splits an array into two subarrays'''\n",
    "    if len(arr)> 1:\n",
    "        midpoint = len(arr)//2 # Finding the middle of the array \n",
    "        left = arr[:midpoint]  # left subarray\n",
    "        right = arr[midpoint:] # right subarray\n",
    "        return left,right\n",
    "    else:\n",
    "        return arr\n",
    "  "
   ]
  },
  {
   "cell_type": "code",
   "execution_count": 3,
   "metadata": {},
   "outputs": [
    {
     "name": "stdout",
     "output_type": "stream",
     "text": [
      "function splits an array into two subarrays\n"
     ]
    }
   ],
   "source": [
    "print(divide_array.__doc__)"
   ]
  },
  {
   "cell_type": "code",
   "execution_count": 4,
   "metadata": {},
   "outputs": [
    {
     "name": "stdout",
     "output_type": "stream",
     "text": [
      "([1, 2], [3, 4, 5])\n"
     ]
    }
   ],
   "source": [
    "print(divide_array([1,2,3,4,5]))"
   ]
  },
  {
   "cell_type": "code",
   "execution_count": 5,
   "metadata": {},
   "outputs": [],
   "source": [
    "def divide_array_recur(arr):\n",
    "    '''function splits an array into multiple subarrays'''\n",
    "    if len(arr)> 2:\n",
    "        midpoint = len(arr)//2 # Finding the middle of the array \n",
    "        left = arr[:midpoint]  # left subarray\n",
    "        right = arr[midpoint:] # right subarray\n",
    "        print(left)\n",
    "        print(right)\n",
    "        print()\n",
    "        return divide_array_recur(left),divide_array_recur(right)\n",
    "    elif len(arr)== 2:\n",
    "        if arr[0] > arr[1]:\n",
    "            arr[0],arr[1] =  arr[1],arr[0]\n",
    "        print(arr)\n",
    "        return arr\n",
    "    else:\n",
    "        print(arr)\n",
    "        return arr\n",
    "  "
   ]
  },
  {
   "cell_type": "code",
   "execution_count": 6,
   "metadata": {},
   "outputs": [
    {
     "name": "stdout",
     "output_type": "stream",
     "text": [
      "function splits an array into multiple subarrays\n"
     ]
    }
   ],
   "source": [
    "print(divide_array_recur.__doc__)"
   ]
  },
  {
   "cell_type": "code",
   "execution_count": 7,
   "metadata": {},
   "outputs": [
    {
     "name": "stdout",
     "output_type": "stream",
     "text": [
      "[1, 2]\n",
      "[3, 4, 5]\n",
      "\n",
      "[1, 2]\n",
      "[3]\n",
      "[4, 5]\n",
      "\n",
      "[3]\n",
      "[4, 5]\n",
      "([1, 2], ([3], [4, 5]))\n"
     ]
    }
   ],
   "source": [
    "print(divide_array_recur([1,2,3,4,5]))"
   ]
  },
  {
   "cell_type": "code",
   "execution_count": 8,
   "metadata": {},
   "outputs": [],
   "source": [
    "def merge_sorted_arrays(arr_1,arr_2):\n",
    "    '''function merges 2 sorted arrays into one sorted array'''\n",
    "    #determine the shorter of the 2 arrays\n",
    "    new_array = []\n",
    "    if len(arr_1) <= len(arr_2):\n",
    "        shorter = len(arr_1)\n",
    "    else:\n",
    "        shorter = len(arr_2)\n",
    "        \n",
    "    return shorter\n",
    "    "
   ]
  },
  {
   "cell_type": "code",
   "execution_count": 9,
   "metadata": {},
   "outputs": [
    {
     "name": "stdout",
     "output_type": "stream",
     "text": [
      "3\n"
     ]
    }
   ],
   "source": [
    "b1 = [3,5,6]\n",
    "\n",
    "b2 = [4,7,8,9,10]\n",
    "\n",
    "print(merge_sorted_arrays(b1,b2))"
   ]
  },
  {
   "cell_type": "code",
   "execution_count": 10,
   "metadata": {},
   "outputs": [
    {
     "name": "stdout",
     "output_type": "stream",
     "text": [
      "function merges 2 sorted arrays into one sorted array\n"
     ]
    }
   ],
   "source": [
    "print(merge_sorted_arrays.__doc__)"
   ]
  },
  {
   "cell_type": "code",
   "execution_count": 11,
   "metadata": {},
   "outputs": [
    {
     "name": "stdout",
     "output_type": "stream",
     "text": [
      "0\n",
      "1\n",
      "2\n",
      "[3, 4, 5, 7, 6, 8]\n",
      "\n",
      "\n",
      "[3, 4, 5, 7, 6, 8]\n",
      "\n"
     ]
    }
   ],
   "source": [
    "# two sorted arrays, but how to merge into one sorted array?\n",
    "\n",
    "\n",
    "b1 = [3,5,6]\n",
    "\n",
    "b2 = [4,7,8,9,10]\n",
    "\n",
    "new_array = []\n",
    "\n",
    "for idx in range(len(b1)):\n",
    "    print(idx)\n",
    "    if b1[idx] > b2[idx]:\n",
    "        new_array.append(b2[idx])\n",
    "        new_array.append(b1[idx])\n",
    "    else:\n",
    "        new_array.append(b1[idx])\n",
    "        new_array.append(b2[idx])\n",
    "        \n",
    "print(new_array)\n",
    "print()\n",
    "\n",
    "#for item in b2[len(b1):]:\n",
    "    #print(item)\n",
    "    #new_array.append(item)\n",
    "    \n",
    "print()\n",
    "print(new_array)\n",
    "print()"
   ]
  },
  {
   "cell_type": "code",
   "execution_count": 12,
   "metadata": {},
   "outputs": [
    {
     "name": "stdout",
     "output_type": "stream",
     "text": [
      "5\n"
     ]
    }
   ],
   "source": [
    "b1 = [3,5,6]\n",
    "\n",
    "b2 = [4,7,8,9,10]\n",
    "\n",
    "new_array = []\n",
    "\n",
    "l_1 = len(b1)\n",
    "\n",
    "l_2 = len(b2)\n",
    "\n",
    "l_largest =  max(l_1,l_2)\n",
    "\n",
    "print(l_largest)"
   ]
  },
  {
   "cell_type": "code",
   "execution_count": 13,
   "metadata": {},
   "outputs": [],
   "source": [
    "b1 = [3,5,6]\n",
    "\n",
    "b2 = [4,7,8,9,10]\n",
    "\n",
    "new_array = []\n",
    "\n",
    "l_1 = len(b1)\n",
    "\n",
    "l_2 = len(b2)\n",
    "\n",
    "l_largest =  max(l_1,l_2)\n",
    "\n",
    "highest = 1\n",
    "\n",
    "#for idx in range(l_largest):\n",
    "    "
   ]
  },
  {
   "cell_type": "markdown",
   "metadata": {},
   "source": [
    "## merge( ) function is used for merging two halves. \n",
    "## The merge(arr, l, m, r) is key process that assumes\n",
    "## that arr[l..m] and arr[m+1..r] are sorted and merges the two sorted sub-arrays into one. "
   ]
  },
  {
   "cell_type": "code",
   "execution_count": 14,
   "metadata": {},
   "outputs": [
    {
     "name": "stdout",
     "output_type": "stream",
     "text": [
      "Initial state:\n",
      "3\n",
      "\n",
      "5\n",
      "After:\n",
      "3\n",
      "\n",
      "7\n"
     ]
    }
   ],
   "source": [
    "# simple case both arrays are of equal size: 2 elements per array in this case\n",
    "\n",
    "b1 = [3,5]\n",
    "\n",
    "b2 = [4,7]\n",
    "\n",
    "new_array = []\n",
    "\n",
    "lowest = b1[0]\n",
    "highest = b1[len(b1)-1]\n",
    "print('Initial state:')\n",
    "print(lowest)\n",
    "print()\n",
    "print(highest)\n",
    "if b1[0]>b2[0]:\n",
    "    lowest = b2[0]\n",
    "    \n",
    "if b1[len(b1)-1]<b2[len(b2)-1]:\n",
    "    highest = b2[len(b2)-1]\n",
    "print('After:')   \n",
    "print(lowest)\n",
    "print()\n",
    "print(highest)   "
   ]
  },
  {
   "cell_type": "code",
   "execution_count": 15,
   "metadata": {},
   "outputs": [
    {
     "name": "stdout",
     "output_type": "stream",
     "text": [
      "2 2\n",
      "\n",
      "1 2\n",
      "\n",
      "1 1\n",
      "\n",
      "[3, 4, 5]\n"
     ]
    }
   ],
   "source": [
    "# merge function prototype\n",
    "# see youtube video at https://www.youtube.com/watch?v=4VqmGXwpLqc\n",
    "\n",
    "a = [3,5]\n",
    "\n",
    "b = [4,7]\n",
    "\n",
    "new_array = []\n",
    "\n",
    "while (len(a) !=0 and len(b)!= 0):\n",
    "    print(len(a), len(b))\n",
    "    print()\n",
    "    if a[0] > b[0]:\n",
    "        new_array.append(b[0]) # add b[0] to new array\n",
    "        b.pop(0)\n",
    "    else:\n",
    "        new_array.append(a[0])\n",
    "        a.pop(0)\n",
    "        \n",
    "print(new_array)"
   ]
  },
  {
   "cell_type": "code",
   "execution_count": 16,
   "metadata": {},
   "outputs": [
    {
     "name": "stdout",
     "output_type": "stream",
     "text": [
      "3\n",
      "\n",
      "3\n"
     ]
    }
   ],
   "source": [
    "a = [3,4,7]\n",
    "\n",
    "b = [5,6,8]\n",
    "\n",
    "print(len(a))\n",
    "print()\n",
    "print(len(b))"
   ]
  },
  {
   "cell_type": "code",
   "execution_count": 17,
   "metadata": {},
   "outputs": [
    {
     "name": "stdout",
     "output_type": "stream",
     "text": [
      "0 0\n",
      "\n",
      "[]\n",
      "\n",
      "1 0\n",
      "\n",
      "[3]\n",
      "\n",
      "2 0\n",
      "\n",
      "[3, 4]\n",
      "\n",
      "2 1\n",
      "\n",
      "[3, 4, 5]\n",
      "\n",
      "2 2\n",
      "\n",
      "[3, 4, 5, 6]\n",
      "\n",
      "3 2\n",
      "\n",
      "[3, 4, 5, 6, 7]\n",
      "\n",
      "3\n",
      "2\n",
      "voila\n",
      "[3, 4, 5, 6, 7, 8]\n"
     ]
    }
   ],
   "source": [
    "# prototype for merging 2 sorted arrays \n",
    "a = [3,4,7]\n",
    "\n",
    "b = [5,6,8]\n",
    "a_idx = 0\n",
    "b_idx = 0\n",
    "\n",
    "new_array = []\n",
    "\n",
    "while ((a_idx < len(a)) or (b_idx < len(b))):\n",
    "    print(a_idx, b_idx)\n",
    "    print()\n",
    "    print(new_array)\n",
    "    print()\n",
    "    \n",
    "    if a_idx == len(a):\n",
    "        new_array.append(b[-1])\n",
    "        break     \n",
    "    elif b_idx == len(b):\n",
    "        new_array.append(a[-1])\n",
    "        break\n",
    "    elif a[a_idx] > b[b_idx]:\n",
    "        new_array.append(b[b_idx]) # add b[0] to new array\n",
    "        b_idx +=1\n",
    "    else:\n",
    "        new_array.append(a[a_idx])\n",
    "        a_idx +=1\n",
    "        \n",
    "print(a_idx)\n",
    "print(b_idx)\n",
    "print('voila')\n",
    "print(new_array)"
   ]
  },
  {
   "cell_type": "code",
   "execution_count": null,
   "metadata": {},
   "outputs": [],
   "source": []
  },
  {
   "cell_type": "code",
   "execution_count": 18,
   "metadata": {},
   "outputs": [
    {
     "name": "stdout",
     "output_type": "stream",
     "text": [
      "3 3\n",
      "\n",
      "[]\n",
      "2 3\n",
      "\n",
      "[3]\n",
      "1 3\n",
      "\n",
      "[3, 4]\n",
      "1 2\n",
      "\n",
      "[3, 4, 5]\n",
      "1 1\n",
      "\n",
      "[3, 4, 5, 6]\n",
      "0 1\n",
      "\n",
      "[3, 4, 5, 6, 7]\n",
      "[3, 4, 5, 6, 7, 8, 8]\n"
     ]
    }
   ],
   "source": [
    "# Alternative approach using pop to eliminate elements from array\n",
    "#a = [3,5]\n",
    "#b = [4,7]\n",
    "\n",
    "a = [3,4,7]\n",
    "b = [5,6,8]\n",
    "\n",
    "new_array = []\n",
    "num_items = len(a)+len(b)\n",
    "\n",
    "while (len(new_array) < num_items+1):\n",
    "    print(len(a), len(b))\n",
    "    print()\n",
    "    print(new_array)\n",
    "    if len(a)== 0:\n",
    "        new_array.append(b[-1])\n",
    "        break\n",
    "    elif len(b)==0:\n",
    "        new_array.append(a[-1])\n",
    "        break\n",
    "    elif a[0] > b[0]:\n",
    "        new_array.append(b[0]) # add b[0] to new array\n",
    "        b.pop(0)\n",
    "    else:\n",
    "        new_array.append(a[0])\n",
    "        a.pop(0)\n",
    "# use below code if the two sorted arrays are of different length        \n",
    "if len(a)== 0:\n",
    "    if len(b) ==1:\n",
    "        new_array.append(b[-1])\n",
    "    elif len(b)> 1:\n",
    "        for item in b:\n",
    "            new_array.append(item)\n",
    "\n",
    "if len(b)==0:\n",
    "    if len(a) ==1:\n",
    "        new_array.append(a[-1])\n",
    "    elif len(a)> 1:\n",
    "        for item in a:\n",
    "            new_array.append(item)\n",
    "            \n",
    "            \n",
    "print(new_array)"
   ]
  },
  {
   "cell_type": "code",
   "execution_count": 19,
   "metadata": {},
   "outputs": [
    {
     "name": "stdout",
     "output_type": "stream",
     "text": [
      "[3, 4, 5, 6, 7, 8]\n"
     ]
    }
   ],
   "source": [
    "# https://www.youtube.com/watch?v=4VqmGXwpLqc\n",
    "#a = [3,4]\n",
    "#b = [5,6,8]\n",
    "a = [3,4,7]\n",
    "b = [5,6,8]\n",
    "new_array = []\n",
    "num_items = len(a)+len(b)\n",
    "\n",
    "while (len(new_array) < num_items+1):\n",
    "    #print(len(a), len(b))\n",
    "    #print()\n",
    "    #print(new_array)\n",
    "    if len(a)== 0:\n",
    "        #new_array.append(b[-1])\n",
    "        break\n",
    "    elif len(b)==0:\n",
    "        #new_array.append(a[-1])\n",
    "        break\n",
    "    elif a[0] > b[0]:\n",
    "        new_array.append(b[0]) # add b[0] to new array\n",
    "        b.pop(0)\n",
    "    else:\n",
    "        new_array.append(a[0])\n",
    "        a.pop(0)\n",
    "\n",
    "if len(a)== 0:\n",
    "    if len(b) ==1:\n",
    "        new_array.append(b[-1])\n",
    "    elif len(b)> 1:\n",
    "        for item in b:\n",
    "            new_array.append(item)\n",
    "\n",
    "if len(b)==0:\n",
    "    if len(a) ==1:\n",
    "        new_array.append(a[-1])\n",
    "    elif len(a)> 1:\n",
    "        for item in a:\n",
    "            new_array.append(item)\n",
    "            \n",
    "    \n",
    "print(new_array)"
   ]
  },
  {
   "cell_type": "code",
   "execution_count": 20,
   "metadata": {},
   "outputs": [
    {
     "name": "stdout",
     "output_type": "stream",
     "text": [
      "[3, 4, 5, 6, 7, 8]\n"
     ]
    }
   ],
   "source": [
    "a = [3,4,7]\n",
    "b = [5,6,8]\n",
    "new_array = []\n",
    "num_items = len(a)+len(b)\n",
    "\n",
    "while (len(new_array) < num_items+1):\n",
    "    #print(len(a), len(b))\n",
    "    #print()\n",
    "    #print(new_array)\n",
    "    if len(a)== 0:\n",
    "        #new_array.append(b[-1])\n",
    "        break\n",
    "    elif len(b)==0:\n",
    "        #new_array.append(a[-1])\n",
    "        break\n",
    "    elif a[0] > b[0]:\n",
    "        new_array.append(b[0]) # add b[0] to new array\n",
    "        b.pop(0)\n",
    "    else:\n",
    "        new_array.append(a[0])\n",
    "        a.pop(0)\n",
    "\n",
    "if len(a)== 0:# if array a is empty, append all remaining elements of array b to new array\n",
    "    for item in b:\n",
    "        new_array.append(item)\n",
    "\n",
    "if len(b)==0:# if array b is empty, append all remaining elements of array a to new array\n",
    "    for item in a:\n",
    "        new_array.append(item)\n",
    "            \n",
    "    \n",
    "print(new_array)"
   ]
  },
  {
   "cell_type": "code",
   "execution_count": 21,
   "metadata": {},
   "outputs": [
    {
     "name": "stdout",
     "output_type": "stream",
     "text": [
      "[3, 4, 5, 6, 8]\n"
     ]
    }
   ],
   "source": [
    "a = [3,5]\n",
    "b = [4,6,8]\n",
    "\n",
    "new_array = []\n",
    "num_items = len(a)+len(b)\n",
    "\n",
    "while (len(new_array) < num_items+1):\n",
    "    #print(len(a), len(b))\n",
    "    #print()\n",
    "    #print(new_array)\n",
    "    if len(a)== 0:\n",
    "        #new_array.append(b[-1])\n",
    "        break\n",
    "    elif len(b)==0:\n",
    "        #new_array.append(a[-1])\n",
    "        break\n",
    "    elif a[0] > b[0]:\n",
    "        new_array.append(b[0]) # add b[0] to new array\n",
    "        b.pop(0)\n",
    "    else:\n",
    "        new_array.append(a[0])\n",
    "        a.pop(0)\n",
    "\n",
    "if len(a)== 0:\n",
    "    for item in b:\n",
    "        new_array.append(item)\n",
    "\n",
    "if len(b)==0:\n",
    "    for item in a:\n",
    "        new_array.append(item)\n",
    "            \n",
    "    \n",
    "print(new_array)"
   ]
  },
  {
   "cell_type": "code",
   "execution_count": 22,
   "metadata": {},
   "outputs": [],
   "source": [
    "def merge_sorted_arrays(ar_a,ar_b):\n",
    "    '''function merges 2 sorted arrays into one sorted array'''\n",
    "    new_array = []\n",
    "    num_items = len(ar_a)+len(ar_b)\n",
    "\n",
    "    while (len(new_array) < num_items+1):\n",
    "    #print(len(a), len(b))\n",
    "    #print()\n",
    "    #print(new_array)\n",
    "        if len(ar_a)== 0:\n",
    "            break\n",
    "        elif len(ar_b)==0:\n",
    "            break\n",
    "        elif ar_a[0] > ar_b[0]:\n",
    "            new_array.append(ar_b[0]) # add b[0] to new array\n",
    "            b.pop(0)\n",
    "        else:\n",
    "            new_array.append(ar_a[0])\n",
    "            a.pop(0)\n",
    "\n",
    "    if len(ar_a)== 0:\n",
    "        for item in ar_b:\n",
    "            new_array.append(item)\n",
    "\n",
    "    if len(ar_b)==0:\n",
    "        for item in ar_a:\n",
    "            new_array.append(item)\n",
    "            \n",
    "    return new_array\n"
   ]
  },
  {
   "cell_type": "code",
   "execution_count": 23,
   "metadata": {},
   "outputs": [
    {
     "name": "stdout",
     "output_type": "stream",
     "text": [
      "function merges 2 sorted arrays into one sorted array\n"
     ]
    }
   ],
   "source": [
    "print(merge_sorted_arrays.__doc__)"
   ]
  },
  {
   "cell_type": "code",
   "execution_count": 24,
   "metadata": {},
   "outputs": [
    {
     "name": "stdout",
     "output_type": "stream",
     "text": [
      "[3, 4, 5, 6, 8]\n"
     ]
    }
   ],
   "source": [
    "a = [3,5]\n",
    "b = [4,6,8]\n",
    "\n",
    "my_answer = merge_sorted_arrays(a,b)\n",
    "\n",
    "print(my_answer)"
   ]
  },
  {
   "cell_type": "code",
   "execution_count": 25,
   "metadata": {},
   "outputs": [
    {
     "name": "stdout",
     "output_type": "stream",
     "text": [
      "[3, 6]\n"
     ]
    }
   ],
   "source": [
    "a = [3]\n",
    "b = [6]\n",
    "\n",
    "my_answer = merge_sorted_arrays(a,b)\n",
    "\n",
    "print(my_answer)"
   ]
  },
  {
   "cell_type": "code",
   "execution_count": 26,
   "metadata": {},
   "outputs": [
    {
     "name": "stdout",
     "output_type": "stream",
     "text": [
      "[3, 4, 5, 6]\n"
     ]
    }
   ],
   "source": [
    "a = [3,5]\n",
    "b = [4,6]\n",
    "\n",
    "my_answer = merge_sorted_arrays(a,b)\n",
    "\n",
    "print(my_answer)"
   ]
  },
  {
   "cell_type": "code",
   "execution_count": 27,
   "metadata": {},
   "outputs": [
    {
     "name": "stdout",
     "output_type": "stream",
     "text": [
      "[]\n",
      "\n",
      "[6]\n"
     ]
    }
   ],
   "source": [
    "print(a)\n",
    "print()\n",
    "print(b)"
   ]
  },
  {
   "cell_type": "code",
   "execution_count": 28,
   "metadata": {},
   "outputs": [
    {
     "name": "stdout",
     "output_type": "stream",
     "text": [
      "[3, 4, 5, 6, 7, 8]\n"
     ]
    }
   ],
   "source": [
    "a = [3,4,7]\n",
    "b = [5,6,8]\n",
    "\n",
    "my_answer = merge_sorted_arrays(a,b)\n",
    "\n",
    "print(my_answer)"
   ]
  },
  {
   "cell_type": "code",
   "execution_count": 29,
   "metadata": {},
   "outputs": [
    {
     "name": "stdout",
     "output_type": "stream",
     "text": [
      "[]\n",
      "\n",
      "[8]\n"
     ]
    }
   ],
   "source": [
    "print(a)\n",
    "print()\n",
    "print(b)"
   ]
  }
 ],
 "metadata": {
  "kernelspec": {
   "display_name": "Python 3",
   "language": "python",
   "name": "python3"
  },
  "language_info": {
   "codemirror_mode": {
    "name": "ipython",
    "version": 3
   },
   "file_extension": ".py",
   "mimetype": "text/x-python",
   "name": "python",
   "nbconvert_exporter": "python",
   "pygments_lexer": "ipython3",
   "version": "3.6.10"
  }
 },
 "nbformat": 4,
 "nbformat_minor": 2
}
