{
 "cells": [
  {
   "cell_type": "code",
   "execution_count": 1,
   "metadata": {},
   "outputs": [],
   "source": [
    "import pandas as pd\n",
    "import numpy as np\n",
    "import seaborn as sns\n",
    "import matplotlib.pyplot as plt\n",
    "import time\n",
    "import re\n",
    "import nltk\n",
    "import math\n",
    "import pickle\n",
    "\n",
    "from sklearn import svm\n",
    "from sklearn.preprocessing import StandardScaler\n",
    "from sklearn.model_selection import train_test_split, GridSearchCV\n",
    "from sklearn.tree import DecisionTreeClassifier\n",
    "from sklearn.linear_model import LogisticRegression\n",
    "from sklearn.neighbors import KNeighborsClassifier\n",
    "from sklearn.ensemble import RandomForestClassifier\n",
    "from nltk.corpus import stopwords\n",
    "from sklearn.feature_extraction.text import TfidfVectorizer\n",
    "from sklearn.feature_extraction.text import CountVectorizer\n",
    "import sklearn.metrics\n",
    "from sklearn.metrics import confusion_matrix\n",
    "from Bio.SeqUtils.ProtParam import ProteinAnalysis\n",
    "#from imblearn.over_sampling import SMOTE\n",
    "from sklearn.model_selection import cross_val_score, cross_val_predict\n",
    "\n",
    "%matplotlib inline"
   ]
  },
  {
   "cell_type": "code",
   "execution_count": 2,
   "metadata": {},
   "outputs": [],
   "source": [
    "# Iterative factorial\n",
    "def my_factorial(n): \n",
    "    result = 1\n",
    "\n",
    "    for idx in range(1,n+1):\n",
    "        \n",
    "        result = result*idx\n",
    "        #idx += idx     \n",
    "    \n",
    "    return result\n"
   ]
  },
  {
   "cell_type": "code",
   "execution_count": 3,
   "metadata": {},
   "outputs": [
    {
     "data": {
      "text/plain": [
       "120"
      ]
     },
     "execution_count": 3,
     "metadata": {},
     "output_type": "execute_result"
    }
   ],
   "source": [
    "my_factorial(5)"
   ]
  },
  {
   "cell_type": "code",
   "execution_count": 4,
   "metadata": {},
   "outputs": [
    {
     "data": {
      "text/plain": [
       "1"
      ]
     },
     "execution_count": 4,
     "metadata": {},
     "output_type": "execute_result"
    }
   ],
   "source": [
    "my_factorial(0)"
   ]
  },
  {
   "cell_type": "code",
   "execution_count": 5,
   "metadata": {},
   "outputs": [
    {
     "name": "stdout",
     "output_type": "stream",
     "text": [
      "Right on!, interative factorial function works!\n"
     ]
    }
   ],
   "source": [
    "if (my_factorial(5)== 120):\n",
    "    print('Right on!, interative factorial function works!')\n",
    "else:\n",
    "    print('Uh-oh, there is a problem with the interative factorial function')"
   ]
  },
  {
   "cell_type": "code",
   "execution_count": 7,
   "metadata": {},
   "outputs": [
    {
     "name": "stdout",
     "output_type": "stream",
     "text": [
      "Right on!, interative factorial function works!\n"
     ]
    }
   ],
   "source": [
    "if (my_factorial(0)== 1):\n",
    "    print('Right on!, interative factorial function works!')\n",
    "else:\n",
    "    print('Uh-oh, there is a problem with the interative factorial function')"
   ]
  },
  {
   "cell_type": "markdown",
   "metadata": {},
   "source": [
    "## Recursive Factorial"
   ]
  },
  {
   "cell_type": "code",
   "execution_count": 8,
   "metadata": {},
   "outputs": [],
   "source": [
    "def recursive_factorial(n):\n",
    "    \n",
    "    # base case n = 0\n",
    "    \n",
    "    if n != 0:\n",
    "        # function calls itself\n",
    "        return n*recursive_factorial(n-1)\n",
    "    \n",
    "    elif n == 0:\n",
    "        return 1\n",
    "     "
   ]
  },
  {
   "cell_type": "code",
   "execution_count": 9,
   "metadata": {},
   "outputs": [
    {
     "data": {
      "text/plain": [
       "6"
      ]
     },
     "execution_count": 9,
     "metadata": {},
     "output_type": "execute_result"
    }
   ],
   "source": [
    "recursive_factorial(3)"
   ]
  },
  {
   "cell_type": "code",
   "execution_count": 10,
   "metadata": {},
   "outputs": [
    {
     "data": {
      "text/plain": [
       "120"
      ]
     },
     "execution_count": 10,
     "metadata": {},
     "output_type": "execute_result"
    }
   ],
   "source": [
    "recursive_factorial(5)"
   ]
  },
  {
   "cell_type": "markdown",
   "metadata": {},
   "source": [
    "## Pallindrome"
   ]
  },
  {
   "cell_type": "code",
   "execution_count": 11,
   "metadata": {},
   "outputs": [
    {
     "name": "stdout",
     "output_type": "stream",
     "text": [
      "rotor\n",
      "\n",
      "rotor\n",
      "\n",
      "A Pallindrome!\n"
     ]
    }
   ],
   "source": [
    "# version 1: without using recursion!\n",
    "\n",
    "my_string = 'rotor'\n",
    "#my_string = 'robot'\n",
    "print(my_string)\n",
    "\n",
    "print()\n",
    "\n",
    "print(my_string[::-1])\n",
    "\n",
    "print()\n",
    "\n",
    "if (my_string == my_string[::-1]):\n",
    "    print('A Pallindrome!')\n",
    "else:\n",
    "    print('Rats!, this string is not a pallindrome!')"
   ]
  },
  {
   "cell_type": "code",
   "execution_count": 12,
   "metadata": {},
   "outputs": [],
   "source": [
    "def my_pallindrome_check(s):\n",
    "    if (s == s[::-1]):\n",
    "        print('A Pallindrome!')\n",
    "    else:\n",
    "        print('Rats!, this string is not a pallindrome!')"
   ]
  },
  {
   "cell_type": "code",
   "execution_count": 13,
   "metadata": {},
   "outputs": [
    {
     "name": "stdout",
     "output_type": "stream",
     "text": [
      "Rats!, this string is not a pallindrome!\n"
     ]
    }
   ],
   "source": [
    "my_pallindrome_check('robot')"
   ]
  },
  {
   "cell_type": "code",
   "execution_count": 14,
   "metadata": {},
   "outputs": [
    {
     "name": "stdout",
     "output_type": "stream",
     "text": [
      "A Pallindrome!\n"
     ]
    }
   ],
   "source": [
    "my_pallindrome_check('rotor')"
   ]
  },
  {
   "cell_type": "code",
   "execution_count": 15,
   "metadata": {},
   "outputs": [
    {
     "name": "stdout",
     "output_type": "stream",
     "text": [
      "A Pallindrome!\n"
     ]
    }
   ],
   "source": [
    "my_pallindrome_check('madam')"
   ]
  },
  {
   "cell_type": "code",
   "execution_count": 16,
   "metadata": {},
   "outputs": [],
   "source": [
    "my_string = 'robot'\n",
    "#my_string = 'rotor'"
   ]
  },
  {
   "cell_type": "code",
   "execution_count": 17,
   "metadata": {},
   "outputs": [
    {
     "name": "stdout",
     "output_type": "stream",
     "text": [
      "0\n",
      "r t\n",
      "\n",
      "1\n",
      "o o\n",
      "\n",
      "2\n",
      "b b\n",
      "\n",
      "3\n",
      "o o\n",
      "\n",
      "4\n",
      "t r\n",
      "\n"
     ]
    }
   ],
   "source": [
    "# recursive pallindrome check\n",
    "\n",
    "for idx in range(len(my_string)):\n",
    "    print(idx)\n",
    "    print(my_string[idx],my_string[-(idx+1)])\n",
    "    print()"
   ]
  },
  {
   "cell_type": "code",
   "execution_count": 18,
   "metadata": {},
   "outputs": [
    {
     "name": "stdout",
     "output_type": "stream",
     "text": [
      "robot\n",
      "obo\n",
      "b\n"
     ]
    }
   ],
   "source": [
    "print(my_string[0: ])\n",
    "print(my_string[1:-1])\n",
    "print(my_string[2:-2])"
   ]
  },
  {
   "cell_type": "code",
   "execution_count": 20,
   "metadata": {},
   "outputs": [],
   "source": [
    "def my_pallindrome_check_2(s):\n",
    "     \n",
    "    if len(s)== 0:\n",
    "        print('No')\n",
    "        return False\n",
    "        \n",
    "    elif len(s)== 1:\n",
    "        print('Yes')\n",
    "        return True\n",
    "        \n",
    "    elif s[0] != s[-1]:\n",
    "        print('No')\n",
    "        return False\n",
    "    else:\n",
    "        #print(s[0])\n",
    "        #print(s[-1])\n",
    "        print(s[1:-1]) # print substring as sanity check\n",
    "        print()\n",
    "        return my_pallindrome_check_2(s[1:-1])\n",
    "        "
   ]
  },
  {
   "cell_type": "code",
   "execution_count": 21,
   "metadata": {},
   "outputs": [
    {
     "name": "stdout",
     "output_type": "stream",
     "text": [
      "xcbnamanbcx\n",
      "\n",
      "cbnamanbc\n",
      "\n",
      "bnamanb\n",
      "\n",
      "naman\n",
      "\n",
      "ama\n",
      "\n",
      "m\n",
      "\n",
      "Yes\n"
     ]
    }
   ],
   "source": [
    "hug = my_pallindrome_check_2('zxcbnamanbcxz')"
   ]
  },
  {
   "cell_type": "code",
   "execution_count": 22,
   "metadata": {},
   "outputs": [
    {
     "name": "stdout",
     "output_type": "stream",
     "text": [
      "True\n"
     ]
    }
   ],
   "source": [
    "print(hug)"
   ]
  },
  {
   "cell_type": "code",
   "execution_count": null,
   "metadata": {},
   "outputs": [],
   "source": []
  },
  {
   "cell_type": "code",
   "execution_count": 23,
   "metadata": {},
   "outputs": [],
   "source": [
    "def recur_pallindrome_check(s):\n",
    "    '''function returns a 1 if string is a pallindrome, a 0 if not\n",
    "    using recursion'''\n",
    "    # check for empty string\n",
    "    if len(s)== 0:\n",
    "        #return 0\n",
    "        return False\n",
    "    # base case: string of one character  \n",
    "    elif len(s)== 1:\n",
    "        #return 1\n",
    "        return True\n",
    "    # return 0 or False if first & last chars do NOT match   \n",
    "    elif s[0] != s[-1]:\n",
    "        #return 0\n",
    "        return False\n",
    "    # recursion if string has more than one char & first & last chars are identical   \n",
    "    else:\n",
    "        return recur_pallindrome_check(s[1:-1])"
   ]
  },
  {
   "cell_type": "code",
   "execution_count": 24,
   "metadata": {},
   "outputs": [
    {
     "name": "stdout",
     "output_type": "stream",
     "text": [
      "True\n"
     ]
    }
   ],
   "source": [
    "print(recur_pallindrome_check('a'))"
   ]
  },
  {
   "cell_type": "code",
   "execution_count": 25,
   "metadata": {},
   "outputs": [
    {
     "name": "stdout",
     "output_type": "stream",
     "text": [
      "False\n"
     ]
    }
   ],
   "source": [
    "print(recur_pallindrome_check('robot'))"
   ]
  },
  {
   "cell_type": "code",
   "execution_count": 26,
   "metadata": {},
   "outputs": [
    {
     "name": "stdout",
     "output_type": "stream",
     "text": [
      "True\n"
     ]
    }
   ],
   "source": [
    "print(recur_pallindrome_check('rotor'))"
   ]
  },
  {
   "cell_type": "code",
   "execution_count": 27,
   "metadata": {},
   "outputs": [
    {
     "name": "stdout",
     "output_type": "stream",
     "text": [
      "True\n"
     ]
    }
   ],
   "source": [
    "print(recur_pallindrome_check('zxcbnamanbcxz'))"
   ]
  },
  {
   "cell_type": "code",
   "execution_count": 28,
   "metadata": {},
   "outputs": [
    {
     "name": "stdout",
     "output_type": "stream",
     "text": [
      "False\n"
     ]
    }
   ],
   "source": [
    "print(recur_pallindrome_check('marzipan'))"
   ]
  },
  {
   "cell_type": "code",
   "execution_count": 29,
   "metadata": {},
   "outputs": [
    {
     "name": "stdout",
     "output_type": "stream",
     "text": [
      "True\n"
     ]
    }
   ],
   "source": [
    "print(recur_pallindrome_check('madam'))"
   ]
  },
  {
   "cell_type": "code",
   "execution_count": null,
   "metadata": {},
   "outputs": [],
   "source": []
  }
 ],
 "metadata": {
  "kernelspec": {
   "display_name": "Python 3",
   "language": "python",
   "name": "python3"
  },
  "language_info": {
   "codemirror_mode": {
    "name": "ipython",
    "version": 3
   },
   "file_extension": ".py",
   "mimetype": "text/x-python",
   "name": "python",
   "nbconvert_exporter": "python",
   "pygments_lexer": "ipython3",
   "version": "3.6.10"
  }
 },
 "nbformat": 4,
 "nbformat_minor": 2
}
